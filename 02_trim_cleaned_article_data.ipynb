{
 "cells": [
  {
   "cell_type": "markdown",
   "metadata": {},
   "source": [
    "# NLP: Trim Article Dataset"
   ]
  },
  {
   "cell_type": "markdown",
   "metadata": {},
   "source": [
    "## Imports"
   ]
  },
  {
   "cell_type": "code",
   "execution_count": 8,
   "metadata": {
    "collapsed": true
   },
   "outputs": [],
   "source": [
    "import pandas as pd"
   ]
  },
  {
   "cell_type": "markdown",
   "metadata": {},
   "source": [
    "## Load Data"
   ]
  },
  {
   "cell_type": "code",
   "execution_count": 9,
   "metadata": {
    "collapsed": true
   },
   "outputs": [],
   "source": [
    "df = pd.read_csv('news_articles_cleaned.csv')"
   ]
  },
  {
   "cell_type": "code",
   "execution_count": 10,
   "metadata": {},
   "outputs": [
    {
     "name": "stdout",
     "output_type": "stream",
     "text": [
      "<class 'pandas.core.frame.DataFrame'>\n",
      "RangeIndex: 84809 entries, 0 to 84808\n",
      "Data columns (total 6 columns):\n",
      "article_text            84809 non-null object\n",
      "datetime                84809 non-null object\n",
      "source                  84809 non-null object\n",
      "title                   84809 non-null object\n",
      "url                     84809 non-null object\n",
      "cleaned_article_text    84808 non-null object\n",
      "dtypes: object(6)\n",
      "memory usage: 3.9+ MB\n"
     ]
    }
   ],
   "source": [
    "df.info()"
   ]
  },
  {
   "cell_type": "markdown",
   "metadata": {},
   "source": [
    "## Remove articles < 150 characters"
   ]
  },
  {
   "cell_type": "code",
   "execution_count": 11,
   "metadata": {},
   "outputs": [
    {
     "data": {
      "text/html": [
       "<div>\n",
       "<style>\n",
       "    .dataframe thead tr:only-child th {\n",
       "        text-align: right;\n",
       "    }\n",
       "\n",
       "    .dataframe thead th {\n",
       "        text-align: left;\n",
       "    }\n",
       "\n",
       "    .dataframe tbody tr th {\n",
       "        vertical-align: top;\n",
       "    }\n",
       "</style>\n",
       "<table border=\"1\" class=\"dataframe\">\n",
       "  <thead>\n",
       "    <tr style=\"text-align: right;\">\n",
       "      <th></th>\n",
       "      <th>article_text</th>\n",
       "      <th>datetime</th>\n",
       "      <th>source</th>\n",
       "      <th>title</th>\n",
       "      <th>url</th>\n",
       "      <th>cleaned_article_text</th>\n",
       "    </tr>\n",
       "  </thead>\n",
       "  <tbody>\n",
       "    <tr>\n",
       "      <th>80918</th>\n",
       "      <td>Viktor Orbán’s illiberal administration is pre...</td>\n",
       "      <td>2016-09-29 11:14:00</td>\n",
       "      <td>FT</td>\n",
       "      <td>Hungary’s referendum: an expensive farce</td>\n",
       "      <td>https://www.ft.com/content/0644fac3-4720-373e-...</td>\n",
       "      <td>Viktor Orb n illiberal administration preparin...</td>\n",
       "    </tr>\n",
       "    <tr>\n",
       "      <th>55183</th>\n",
       "      <td>* Nikkei dips before U.S. jobs data\\n * Sony ...</td>\n",
       "      <td>2012-02-03</td>\n",
       "      <td>Reuters</td>\n",
       "      <td>Nikkei slips before U.S. jobs data, Sony surges</td>\n",
       "      <td>http://uk.reuters.com/article/markets-japan-st...</td>\n",
       "      <td>Japan Nikkei ahead US jobs though Sony Corp so...</td>\n",
       "    </tr>\n",
       "    <tr>\n",
       "      <th>33409</th>\n",
       "      <td>* FTSEurofirst 300 closes 0.2 pct higher   * ...</td>\n",
       "      <td>2011-04-05 00:00:00</td>\n",
       "      <td>Reuters</td>\n",
       "      <td>European shares hit 4-week closing high; oils ...</td>\n",
       "      <td>http://uk.reuters.com/article/markets-europe-s...</td>\n",
       "      <td>European shares edged highest nearly four week...</td>\n",
       "    </tr>\n",
       "    <tr>\n",
       "      <th>63989</th>\n",
       "      <td>(Adds SpiceJet item) Jan 5 (Reuters) - The fol...</td>\n",
       "      <td>2015-01-05 00:00:00</td>\n",
       "      <td>Reuters</td>\n",
       "      <td>UPDATE 1-Market Chatter-Corporate finance pres...</td>\n",
       "      <td>http://uk.reuters.com/article/market-chatter-i...</td>\n",
       "      <td>The following corporate finance related storie...</td>\n",
       "    </tr>\n",
       "    <tr>\n",
       "      <th>15874</th>\n",
       "      <td>\\nOh economists, you meet your match at Christ...</td>\n",
       "      <td>2010-12-27 00:01:49</td>\n",
       "      <td>Guardian</td>\n",
       "      <td>The economics of gift-giving: Of crackers and ...</td>\n",
       "      <td>https://www.theguardian.com/commentisfree/2010...</td>\n",
       "      <td>Oh economists meet match Christmas All strictu...</td>\n",
       "    </tr>\n",
       "    <tr>\n",
       "      <th>56319</th>\n",
       "      <td>(Updates with opening)   TOKYO, July 30 (Reut...</td>\n",
       "      <td>2008-07-30</td>\n",
       "      <td>Reuters</td>\n",
       "      <td>Nikkei up 0.8 pct led by banks, exporters</td>\n",
       "      <td>http://uk.reuters.com/article/markets-japan-st...</td>\n",
       "      <td>The Nikkei boosted financial shares US stocks ...</td>\n",
       "    </tr>\n",
       "    <tr>\n",
       "      <th>22910</th>\n",
       "      <td>LONDON (Reuters) - Britain's top share index e...</td>\n",
       "      <td>2016-05-16 00:00:00</td>\n",
       "      <td>Reuters</td>\n",
       "      <td>Britain's FTSE finishes higher on stronger miners</td>\n",
       "      <td>http://uk.reuters.com/article/britain-stocks-i...</td>\n",
       "      <td>Britain ended rally basic resources stocks bac...</td>\n",
       "    </tr>\n",
       "    <tr>\n",
       "      <th>6116</th>\n",
       "      <td>\\nIt is a truth universally acknowledged that ...</td>\n",
       "      <td>2017-05-07 11:02:28</td>\n",
       "      <td>Guardian</td>\n",
       "      <td>Falling real wages show the British economy is...</td>\n",
       "      <td>https://www.theguardian.com/business/2017/may/...</td>\n",
       "      <td>It truth universally acknowledged prime minist...</td>\n",
       "    </tr>\n",
       "    <tr>\n",
       "      <th>25463</th>\n",
       "      <td>(Corrects in paragraph 4 to show that banks r...</td>\n",
       "      <td>2008-09-02 00:00:00</td>\n",
       "      <td>Reuters</td>\n",
       "      <td>CORRECTED - European stocks hit session highs ...</td>\n",
       "      <td>http://uk.reuters.com/article/markets-europe-s...</td>\n",
       "      <td>European shares extended gains hit session hig...</td>\n",
       "    </tr>\n",
       "    <tr>\n",
       "      <th>80228</th>\n",
       "      <td>Less than a day out from the triggering of Art...</td>\n",
       "      <td>2017-03-30 06:22:00</td>\n",
       "      <td>FT</td>\n",
       "      <td>Fast Europe Open: So you’re leaving the EU</td>\n",
       "      <td>https://www.ft.com/content/441bb545-b466-321a-...</td>\n",
       "      <td>Less day triggering Article good take stock ex...</td>\n",
       "    </tr>\n",
       "  </tbody>\n",
       "</table>\n",
       "</div>"
      ],
      "text/plain": [
       "                                            article_text             datetime  \\\n",
       "80918  Viktor Orbán’s illiberal administration is pre...  2016-09-29 11:14:00   \n",
       "55183   * Nikkei dips before U.S. jobs data\\n * Sony ...           2012-02-03   \n",
       "33409   * FTSEurofirst 300 closes 0.2 pct higher   * ...  2011-04-05 00:00:00   \n",
       "63989  (Adds SpiceJet item) Jan 5 (Reuters) - The fol...  2015-01-05 00:00:00   \n",
       "15874  \\nOh economists, you meet your match at Christ...  2010-12-27 00:01:49   \n",
       "56319   (Updates with opening)   TOKYO, July 30 (Reut...           2008-07-30   \n",
       "22910  LONDON (Reuters) - Britain's top share index e...  2016-05-16 00:00:00   \n",
       "6116   \\nIt is a truth universally acknowledged that ...  2017-05-07 11:02:28   \n",
       "25463   (Corrects in paragraph 4 to show that banks r...  2008-09-02 00:00:00   \n",
       "80228  Less than a day out from the triggering of Art...  2017-03-30 06:22:00   \n",
       "\n",
       "         source                                              title  \\\n",
       "80918        FT           Hungary’s referendum: an expensive farce   \n",
       "55183   Reuters    Nikkei slips before U.S. jobs data, Sony surges   \n",
       "33409   Reuters  European shares hit 4-week closing high; oils ...   \n",
       "63989   Reuters  UPDATE 1-Market Chatter-Corporate finance pres...   \n",
       "15874  Guardian  The economics of gift-giving: Of crackers and ...   \n",
       "56319   Reuters          Nikkei up 0.8 pct led by banks, exporters   \n",
       "22910   Reuters  Britain's FTSE finishes higher on stronger miners   \n",
       "6116   Guardian  Falling real wages show the British economy is...   \n",
       "25463   Reuters  CORRECTED - European stocks hit session highs ...   \n",
       "80228        FT         Fast Europe Open: So you’re leaving the EU   \n",
       "\n",
       "                                                     url  \\\n",
       "80918  https://www.ft.com/content/0644fac3-4720-373e-...   \n",
       "55183  http://uk.reuters.com/article/markets-japan-st...   \n",
       "33409  http://uk.reuters.com/article/markets-europe-s...   \n",
       "63989  http://uk.reuters.com/article/market-chatter-i...   \n",
       "15874  https://www.theguardian.com/commentisfree/2010...   \n",
       "56319  http://uk.reuters.com/article/markets-japan-st...   \n",
       "22910  http://uk.reuters.com/article/britain-stocks-i...   \n",
       "6116   https://www.theguardian.com/business/2017/may/...   \n",
       "25463  http://uk.reuters.com/article/markets-europe-s...   \n",
       "80228  https://www.ft.com/content/441bb545-b466-321a-...   \n",
       "\n",
       "                                    cleaned_article_text  \n",
       "80918  Viktor Orb n illiberal administration preparin...  \n",
       "55183  Japan Nikkei ahead US jobs though Sony Corp so...  \n",
       "33409  European shares edged highest nearly four week...  \n",
       "63989  The following corporate finance related storie...  \n",
       "15874  Oh economists meet match Christmas All strictu...  \n",
       "56319  The Nikkei boosted financial shares US stocks ...  \n",
       "22910  Britain ended rally basic resources stocks bac...  \n",
       "6116   It truth universally acknowledged prime minist...  \n",
       "25463  European shares extended gains hit session hig...  \n",
       "80228  Less day triggering Article good take stock ex...  "
      ]
     },
     "execution_count": 11,
     "metadata": {},
     "output_type": "execute_result"
    }
   ],
   "source": [
    "df.sample(10)"
   ]
  },
  {
   "cell_type": "code",
   "execution_count": 12,
   "metadata": {
    "collapsed": true
   },
   "outputs": [],
   "source": [
    "mask = (df['cleaned_article_text'].str.len() > 150)\n",
    "df = df[mask]"
   ]
  },
  {
   "cell_type": "code",
   "execution_count": 13,
   "metadata": {},
   "outputs": [
    {
     "name": "stdout",
     "output_type": "stream",
     "text": [
      "<class 'pandas.core.frame.DataFrame'>\n",
      "Int64Index: 84155 entries, 0 to 84808\n",
      "Data columns (total 6 columns):\n",
      "article_text            84155 non-null object\n",
      "datetime                84155 non-null object\n",
      "source                  84155 non-null object\n",
      "title                   84155 non-null object\n",
      "url                     84155 non-null object\n",
      "cleaned_article_text    84155 non-null object\n",
      "dtypes: object(6)\n",
      "memory usage: 4.5+ MB\n"
     ]
    }
   ],
   "source": [
    "df.info()"
   ]
  },
  {
   "cell_type": "markdown",
   "metadata": {},
   "source": [
    "## Save Data"
   ]
  },
  {
   "cell_type": "code",
   "execution_count": 14,
   "metadata": {
    "collapsed": true
   },
   "outputs": [],
   "source": [
    "df.to_csv('news_articles_cleaned_trimmed.csv', index=None, encoding='utf-8')"
   ]
  }
 ],
 "metadata": {
  "kernelspec": {
   "display_name": "Python 3",
   "language": "python",
   "name": "python3"
  },
  "language_info": {
   "codemirror_mode": {
    "name": "ipython",
    "version": 3
   },
   "file_extension": ".py",
   "mimetype": "text/x-python",
   "name": "python",
   "nbconvert_exporter": "python",
   "pygments_lexer": "ipython3",
   "version": "3.6.1"
  }
 },
 "nbformat": 4,
 "nbformat_minor": 2
}
