{
 "cells": [
  {
   "cell_type": "markdown",
   "metadata": {},
   "source": [
    "# NLP: Initial Text Pre-Processing"
   ]
  },
  {
   "cell_type": "markdown",
   "metadata": {},
   "source": [
    "- Remove stop words\n",
    "- Remove numbers\n",
    "- Remove punctuation\n",
    "- Underscore entities with more than one word\n",
    "- Tidy up Reuters news article text"
   ]
  },
  {
   "cell_type": "markdown",
   "metadata": {},
   "source": [
    "## Imports"
   ]
  },
  {
   "cell_type": "code",
   "execution_count": 1,
   "metadata": {},
   "outputs": [
    {
     "name": "stderr",
     "output_type": "stream",
     "text": [
      "C:\\Users\\mattm\\Anaconda3\\lib\\site-packages\\gensim\\utils.py:865: UserWarning: detected Windows; aliasing chunkize to chunkize_serial\n",
      "  warnings.warn(\"detected Windows; aliasing chunkize to chunkize_serial\")\n"
     ]
    }
   ],
   "source": [
    "import pandas as pd\n",
    "import numpy as np\n",
    "import os\n",
    "import re\n",
    "\n",
    "from sklearn.feature_extraction.text import CountVectorizer, TfidfVectorizer\n",
    "from sklearn.decomposition import TruncatedSVD, NMF\n",
    "from sklearn.preprocessing import Normalizer, normalize\n",
    "from sklearn import metrics\n",
    "from sklearn.metrics import silhouette_score\n",
    "from sklearn.cluster import KMeans, MiniBatchKMeans, AgglomerativeClustering, DBSCAN, SpectralClustering\n",
    "from sklearn.utils.extmath import randomized_svd\n",
    "from sklearn.pipeline import make_pipeline\n",
    "from sklearn.neighbors import NearestNeighbors\n",
    "from sklearn.decomposition import LatentDirichletAllocation\n",
    "from sklearn.mixture import GaussianMixture\n",
    "from sklearn.model_selection import train_test_split\n",
    "\n",
    "import nltk\n",
    "from nltk.stem.porter import PorterStemmer\n",
    "from nltk.chunk import ne_chunk\n",
    "from nltk.tag import pos_tag\n",
    "from nltk.tokenize import word_tokenize\n",
    "from nltk.stem.lancaster import LancasterStemmer\n",
    "from nltk.corpus import stopwords\n",
    "\n",
    "from nltk.tag import StanfordNERTagger\n",
    "from string import punctuation\n",
    "from gensim.models.phrases import Phrases, Phraser\n",
    "from gensim import corpora, models, similarities, matutils, models\n",
    "import spacy\n",
    "\n",
    "import seaborn as sns\n",
    "import matplotlib.pyplot as plt\n",
    "%matplotlib inline"
   ]
  },
  {
   "cell_type": "markdown",
   "metadata": {},
   "source": [
    "## Config"
   ]
  },
  {
   "cell_type": "code",
   "execution_count": 2,
   "metadata": {
    "collapsed": true
   },
   "outputs": [],
   "source": [
    "java_path = \"C:/Program Files/Java/jdk1.8.0_144/bin/java.exe\"\n",
    "os.environ['JAVAHOME'] = java_path"
   ]
  },
  {
   "cell_type": "code",
   "execution_count": 3,
   "metadata": {
    "collapsed": true
   },
   "outputs": [],
   "source": [
    "stanford_ner_path = 'C:\\ds\\stanford-ner\\stanford-ner.jar'\n",
    "stanford_classifier = 'C:\\ds\\stanford-ner\\classifiers\\english.muc.7class.distsim.crf.ser.gz'"
   ]
  },
  {
   "cell_type": "code",
   "execution_count": 4,
   "metadata": {
    "collapsed": true
   },
   "outputs": [],
   "source": [
    "nlp = spacy.load(name='en')"
   ]
  },
  {
   "cell_type": "code",
   "execution_count": 5,
   "metadata": {
    "collapsed": true
   },
   "outputs": [],
   "source": [
    "stops = stopwords.words('english')"
   ]
  },
  {
   "cell_type": "code",
   "execution_count": 6,
   "metadata": {
    "collapsed": true
   },
   "outputs": [],
   "source": [
    "extra_stops = ['pct', 'percent', 'cent', 'high', 'low', 'top', 'news', 'topnew', 'topnews', 'GMT', 'BST', 'AM', 'PM',\n",
    "              'Reuters', 'reuters', 'reuters.com', 'plc', 'PLC', 'visit', 'click', 'thomson', 'Thomson', 'thomsonreuters',\n",
    "              'suggest', 'feedback', 'alert', 'email', 'best', 'cms', 'CMS', 'pageid', 'livemarket', 'client', 'link',\n",
    "              'net', 'change', 'chg', 'open', 'site', 'eikon', 'EIKON', 'yld', 'yr', 'say', 'year', 'close', 'performance',\n",
    "              'perform', 'performs', 'id', 'ID', 'pa', 'report', 'reports', 'reporting', 'share', 'break', 'recent', 'past',\n",
    "              'point', 'said', 'index', 'data', 'new', 'points', 'market', 'markets', 'bn', 'Bn', 'Mn', 'mn', 'avg', 'average',\n",
    "              'fell', 'fall', 'rose', 'rise', 'time', 'Monday', 'Tuesday', 'Wednesday', 'Thursday', 'Friday', 'Saturday', \n",
    "               'Sunday', 'people', 'higher', 'lower', 'likely', 'Reporting']"
   ]
  },
  {
   "cell_type": "code",
   "execution_count": 7,
   "metadata": {
    "collapsed": true
   },
   "outputs": [],
   "source": [
    "stops = stops + extra_stops\n",
    "stops = set(stops)"
   ]
  },
  {
   "cell_type": "markdown",
   "metadata": {},
   "source": [
    "## Functions"
   ]
  },
  {
   "cell_type": "code",
   "execution_count": 8,
   "metadata": {
    "collapsed": true
   },
   "outputs": [],
   "source": [
    "def underscore_entities(document):\n",
    "    spacy = nlp(document)\n",
    "    \n",
    "    uds_entities = []\n",
    "    ent_chars = []\n",
    "    for i in spacy.ents:\n",
    "        ent_chars.append((i.start_char, i.end_char))\n",
    "    \n",
    "    new_string = []\n",
    "    for index, item in enumerate(list(str(spacy))):\n",
    "        for i, j in enumerate(ent_chars):\n",
    "            if j[0] < index < j[1] and item == ' ':\n",
    "                item = '_'\n",
    "        new_string.append(item)\n",
    "\n",
    "    ns = ''.join(new_string)\n",
    "    uds_entities.append(ns)\n",
    "        \n",
    "    return uds_entities"
   ]
  },
  {
   "cell_type": "code",
   "execution_count": 9,
   "metadata": {
    "collapsed": true
   },
   "outputs": [],
   "source": [
    "def clean_reuters(article):\n",
    "    text_to_find = '(Reuters) - '\n",
    "    try:\n",
    "        cleaned = article[article.index(text_to_find) + len(text_to_find):]\n",
    "        return cleaned\n",
    "    except:\n",
    "        return article"
   ]
  },
  {
   "cell_type": "code",
   "execution_count": 11,
   "metadata": {
    "collapsed": true
   },
   "outputs": [],
   "source": [
    "def clean_text(raw_text, stop=True):\n",
    "    raw_text = raw_text.replace('U.S', 'US')\n",
    "    raw_text = clean_reuters(raw_text)\n",
    "    letters_only = re.sub('[^a-zA-Z]', ' ', raw_text)\n",
    "    letters_only = ' '.join(letters_only.split())\n",
    "#     underscored = underscore_entities(letters_only)\n",
    "#     words = underscored[0].split()\n",
    "    words = letters_only.split()\n",
    "    \n",
    "    if stop == True:\n",
    "        meaningful_words = [w for w in words if not w in stops]\n",
    "        return( \" \".join(meaningful_words))\n",
    "    else:\n",
    "        return( \" \".join(words))"
   ]
  },
  {
   "cell_type": "markdown",
   "metadata": {},
   "source": [
    "## Load Data"
   ]
  },
  {
   "cell_type": "code",
   "execution_count": 12,
   "metadata": {
    "collapsed": true
   },
   "outputs": [],
   "source": [
    "df = pd.read_csv('news_articles.csv')"
   ]
  },
  {
   "cell_type": "code",
   "execution_count": 13,
   "metadata": {},
   "outputs": [
    {
     "name": "stdout",
     "output_type": "stream",
     "text": [
      "<class 'pandas.core.frame.DataFrame'>\n",
      "RangeIndex: 84809 entries, 0 to 84808\n",
      "Data columns (total 5 columns):\n",
      "article_text    84809 non-null object\n",
      "datetime        84809 non-null object\n",
      "source          84809 non-null object\n",
      "title           84809 non-null object\n",
      "url             84809 non-null object\n",
      "dtypes: object(5)\n",
      "memory usage: 3.2+ MB\n"
     ]
    }
   ],
   "source": [
    "df.info()"
   ]
  },
  {
   "cell_type": "markdown",
   "metadata": {},
   "source": [
    "## Clean Article Text"
   ]
  },
  {
   "cell_type": "code",
   "execution_count": 13,
   "metadata": {
    "collapsed": true
   },
   "outputs": [],
   "source": [
    "df['cleaned_article_text'] = df['article_text'].apply(clean_text)"
   ]
  },
  {
   "cell_type": "code",
   "execution_count": 14,
   "metadata": {},
   "outputs": [
    {
     "data": {
      "text/html": [
       "<div>\n",
       "<style>\n",
       "    .dataframe thead tr:only-child th {\n",
       "        text-align: right;\n",
       "    }\n",
       "\n",
       "    .dataframe thead th {\n",
       "        text-align: left;\n",
       "    }\n",
       "\n",
       "    .dataframe tbody tr th {\n",
       "        vertical-align: top;\n",
       "    }\n",
       "</style>\n",
       "<table border=\"1\" class=\"dataframe\">\n",
       "  <thead>\n",
       "    <tr style=\"text-align: right;\">\n",
       "      <th></th>\n",
       "      <th>article_text</th>\n",
       "      <th>datetime</th>\n",
       "      <th>source</th>\n",
       "      <th>title</th>\n",
       "      <th>url</th>\n",
       "      <th>cleaned_article_text</th>\n",
       "    </tr>\n",
       "  </thead>\n",
       "  <tbody>\n",
       "    <tr>\n",
       "      <th>52206</th>\n",
       "      <td>TOKYO, Jan 15 (Reuters) - Japan's Nikkei share...</td>\n",
       "      <td>2013-01-14</td>\n",
       "      <td>Reuters</td>\n",
       "      <td>Nikkei may test level not seen since April 2010</td>\n",
       "      <td>http://uk.reuters.com/article/markets-japan-st...</td>\n",
       "      <td>Japan Nikkei expected may test mark level seen...</td>\n",
       "    </tr>\n",
       "    <tr>\n",
       "      <th>22977</th>\n",
       "      <td>* FTSE 100 down 0.4 pct * Estate agents slump ...</td>\n",
       "      <td>2016-11-23 00:00:00</td>\n",
       "      <td>Reuters</td>\n",
       "      <td>Britain's FTSE hit by commodity reversal</td>\n",
       "      <td>http://uk.reuters.com/article/britain-stocks-i...</td>\n",
       "      <td>Britain hit reversal mining energy stocks Wall...</td>\n",
       "    </tr>\n",
       "    <tr>\n",
       "      <th>44127</th>\n",
       "      <td>(Adds stocks, detail)   By Aiko Hayashi   TOK...</td>\n",
       "      <td>2007-11-07</td>\n",
       "      <td>Reuters</td>\n",
       "      <td>Japan stocks rebound as Softbank jumps, Toyota...</td>\n",
       "      <td>http://uk.reuters.com/article/markets-japan-st...</td>\n",
       "      <td>The Nikkei rebounded little logging seven week...</td>\n",
       "    </tr>\n",
       "    <tr>\n",
       "      <th>7796</th>\n",
       "      <td>\\nA rise in local authority borrowing pushed u...</td>\n",
       "      <td>2014-03-21 11:36:25</td>\n",
       "      <td>Guardian</td>\n",
       "      <td>Government borrowing edges up in February</td>\n",
       "      <td>https://www.theguardian.com/business/2014/mar/...</td>\n",
       "      <td>A local authority borrowing pushed government ...</td>\n",
       "    </tr>\n",
       "    <tr>\n",
       "      <th>2325</th>\n",
       "      <td>\\nSeeking health care in Ethiopia can be a dif...</td>\n",
       "      <td>2007-07-19 17:08:11</td>\n",
       "      <td>Guardian</td>\n",
       "      <td>Brain drain still hurting world's poorest coun...</td>\n",
       "      <td>https://www.theguardian.com/world/2007/jul/19/...</td>\n",
       "      <td>Seeking health care Ethiopia difficult task Fo...</td>\n",
       "    </tr>\n",
       "    <tr>\n",
       "      <th>3832</th>\n",
       "      <td>\\nThe reaction from the City today as both Gor...</td>\n",
       "      <td>2010-05-07 17:21:05</td>\n",
       "      <td>Guardian</td>\n",
       "      <td>City confidence drains at prospect of horse-tr...</td>\n",
       "      <td>https://www.theguardian.com/business/2010/may/...</td>\n",
       "      <td>The reaction City today Gordon Brown David Cam...</td>\n",
       "    </tr>\n",
       "    <tr>\n",
       "      <th>81822</th>\n",
       "      <td>The Asia strategy team at SEB has published it...</td>\n",
       "      <td>2016-12-20 12:25:00</td>\n",
       "      <td>FT</td>\n",
       "      <td>Momentum is now favourable for Chinese equities</td>\n",
       "      <td>https://www.ft.com/content/cec378e6-c68c-11e6-...</td>\n",
       "      <td>The Asia strategy team SEB published three tra...</td>\n",
       "    </tr>\n",
       "    <tr>\n",
       "      <th>30255</th>\n",
       "      <td>LONDON, April 9 (Reuters) - European stocks we...</td>\n",
       "      <td>2014-04-09 00:00:00</td>\n",
       "      <td>Reuters</td>\n",
       "      <td>European Factors to Watch-Shares set to open m...</td>\n",
       "      <td>http://uk.reuters.com/article/markets-europe-f...</td>\n",
       "      <td>European stocks seen broadly steady two sessio...</td>\n",
       "    </tr>\n",
       "    <tr>\n",
       "      <th>33961</th>\n",
       "      <td>* FTSEurofirst 300 index up 0.04 pct   * Insu...</td>\n",
       "      <td>2009-10-26 00:00:00</td>\n",
       "      <td>Reuters</td>\n",
       "      <td>European shares little changed; insurers slip</td>\n",
       "      <td>http://uk.reuters.com/article/markets-europe-s...</td>\n",
       "      <td>European shares little changed pharma stocks o...</td>\n",
       "    </tr>\n",
       "    <tr>\n",
       "      <th>60334</th>\n",
       "      <td>By Ambar Warrick\\n    April 5 (Reuters) - ...</td>\n",
       "      <td>2017-04-05 00:00:00</td>\n",
       "      <td>Reuters</td>\n",
       "      <td>SE Asia Stocks-Slightly down; all eyes on Trum...</td>\n",
       "      <td>http://uk.reuters.com/article/southeast-asia-s...</td>\n",
       "      <td>Southeast Asian stock barring Philippines Indo...</td>\n",
       "    </tr>\n",
       "  </tbody>\n",
       "</table>\n",
       "</div>"
      ],
      "text/plain": [
       "                                            article_text             datetime  \\\n",
       "52206  TOKYO, Jan 15 (Reuters) - Japan's Nikkei share...           2013-01-14   \n",
       "22977  * FTSE 100 down 0.4 pct * Estate agents slump ...  2016-11-23 00:00:00   \n",
       "44127   (Adds stocks, detail)   By Aiko Hayashi   TOK...           2007-11-07   \n",
       "7796   \\nA rise in local authority borrowing pushed u...  2014-03-21 11:36:25   \n",
       "2325   \\nSeeking health care in Ethiopia can be a dif...  2007-07-19 17:08:11   \n",
       "3832   \\nThe reaction from the City today as both Gor...  2010-05-07 17:21:05   \n",
       "81822  The Asia strategy team at SEB has published it...  2016-12-20 12:25:00   \n",
       "30255  LONDON, April 9 (Reuters) - European stocks we...  2014-04-09 00:00:00   \n",
       "33961   * FTSEurofirst 300 index up 0.04 pct   * Insu...  2009-10-26 00:00:00   \n",
       "60334      By Ambar Warrick\\n    April 5 (Reuters) - ...  2017-04-05 00:00:00   \n",
       "\n",
       "         source                                              title  \\\n",
       "52206   Reuters    Nikkei may test level not seen since April 2010   \n",
       "22977   Reuters           Britain's FTSE hit by commodity reversal   \n",
       "44127   Reuters  Japan stocks rebound as Softbank jumps, Toyota...   \n",
       "7796   Guardian          Government borrowing edges up in February   \n",
       "2325   Guardian  Brain drain still hurting world's poorest coun...   \n",
       "3832   Guardian  City confidence drains at prospect of horse-tr...   \n",
       "81822        FT    Momentum is now favourable for Chinese equities   \n",
       "30255   Reuters  European Factors to Watch-Shares set to open m...   \n",
       "33961   Reuters      European shares little changed; insurers slip   \n",
       "60334   Reuters  SE Asia Stocks-Slightly down; all eyes on Trum...   \n",
       "\n",
       "                                                     url  \\\n",
       "52206  http://uk.reuters.com/article/markets-japan-st...   \n",
       "22977  http://uk.reuters.com/article/britain-stocks-i...   \n",
       "44127  http://uk.reuters.com/article/markets-japan-st...   \n",
       "7796   https://www.theguardian.com/business/2014/mar/...   \n",
       "2325   https://www.theguardian.com/world/2007/jul/19/...   \n",
       "3832   https://www.theguardian.com/business/2010/may/...   \n",
       "81822  https://www.ft.com/content/cec378e6-c68c-11e6-...   \n",
       "30255  http://uk.reuters.com/article/markets-europe-f...   \n",
       "33961  http://uk.reuters.com/article/markets-europe-s...   \n",
       "60334  http://uk.reuters.com/article/southeast-asia-s...   \n",
       "\n",
       "                                    cleaned_article_text  \n",
       "52206  Japan Nikkei expected may test mark level seen...  \n",
       "22977  Britain hit reversal mining energy stocks Wall...  \n",
       "44127  The Nikkei rebounded little logging seven week...  \n",
       "7796   A local authority borrowing pushed government ...  \n",
       "2325   Seeking health care Ethiopia difficult task Fo...  \n",
       "3832   The reaction City today Gordon Brown David Cam...  \n",
       "81822  The Asia strategy team SEB published three tra...  \n",
       "30255  European stocks seen broadly steady two sessio...  \n",
       "33961  European shares little changed pharma stocks o...  \n",
       "60334  Southeast Asian stock barring Philippines Indo...  "
      ]
     },
     "execution_count": 14,
     "metadata": {},
     "output_type": "execute_result"
    }
   ],
   "source": [
    "df.sample(10)"
   ]
  },
  {
   "cell_type": "markdown",
   "metadata": {},
   "source": [
    "## Save Data"
   ]
  },
  {
   "cell_type": "code",
   "execution_count": 15,
   "metadata": {
    "collapsed": true
   },
   "outputs": [],
   "source": [
    "df.to_csv('news_articles_cleaned.csv', index=None, encoding='utf-8')"
   ]
  },
  {
   "cell_type": "code",
   "execution_count": 19,
   "metadata": {},
   "outputs": [
    {
     "data": {
      "text/plain": [
       "'* FTSEurofirst 300 up 0.9 pct * BNP Paribas rises on relief at U.S. sanctions settlement * Chinese data lifts mining sector * BES shares volatile after short-selling ban By Tricia Wright LONDON, July 1 (Reuters) - European shares began the month with a gain, as BNP Paribas rose on relief it had settled a U.S. sanctions case and mining companies rallied after encouraging economic data came out of China, the world\\'s top metals consumer. The pan-European FTSEurofirst 300 index closed up 0.9 percent at 1,382.31 points - notching its biggest one-day percentage gain since May 8. BNP Paribas rose 3.6 percent in trading volume of almost twice its 90-day daily average. It had lost about 20 percent - or $21 billion of its market value - since Feb. 13 when it announced the provision for the fine. The French bank pleaded guilty to two criminal charges and agreed to pay almost $9 billion to resolve allegations that in many financial dealings it violated U.S. sanctions against Sudan, Cuba and Iran. Analysts and investors said the stock could now recover ground lost over the last few months. \"The size of the fine we knew, the reaction is more to do with BNP\\'s extremely reassuring comments and the efforts made to protect the dividend. The bank is keeping its 2015 targets, so this must mean they enjoyed a very good first half of the year,\" Montsegur Finance fund manager Francois Chaulet said. Mining stocks were also in demand as upbeat factory activity data from China reinforced signs of stabilisation in the economy. Rio Tinto was among the best performers, up 3 percent, after falling about 6 percent this year - underperforming a 4.8 percent rise for the mining sector as a whole. An upgrade to \"buy\" from BofA Merrill Lynch, citing factors including valuation grounds, also lent support. Rio is on a 12-month forward price/earnings ratio of 9.6 times, against a long-running average of 12.3 times. \"Valuation is now compelling and we think that iron ore, a key driver for Rio, is bottoming. Concerns on Chinese real estate persist but our house view is that these are manageable and that the government will be successful in walking the fine line between over-stimulating and an abrupt slow down,\" BofA ML analysts said in a note. BES BOUNCES Banco Espirito Santo (BES) rebounded from near a 12-month low on Tuesday as the Portuguese bank tried to allay concern over financial troubles at its parent company and possible losses at its Angolan unit. The stock jumped 13.8 percent. A 40 percent drop in BES stock over the past three weeks led market regulators in both London and Lisbon to impose a ban on short-term selling of the bank\\'s shares. Short selling, which bets a stock will lose value, can cause shares to fall faster, because short sellers borrow shares, sell them, then buy them back for less than they sold for. Commenting on the broader market trend, McLaren Securities\\' managing director Terry Torrison said he expected European stock markets to trade sideways in the usually quiet summer months of July and August before rising more sharply towards the end of 2014. Other analysts also said the market\\'s longer-term outlook remained positive. Even though data on Tuesday showed that manufacturing growth had eased within the euro zone currency bloc, analysts said new economic stimulus measures from the European Central Bank would support the region\\'s stock markets. \"I think people will still buy the market on the dip,\" Central Markets Investment Management head of trading Darren Courtney-Cook said. Europe bourses in 2014: link.reuters.com/pap87v Asset performance in 2014: link.reuters.com/gap87v Today\\'s European research round-up    (Reporting by Tricia Wright and Sudip Kar-Gupta; Editing by Larry King and Pravin Char)'"
      ]
     },
     "execution_count": 19,
     "metadata": {},
     "output_type": "execute_result"
    }
   ],
   "source": [
    "df.iloc[35750]['article_text']"
   ]
  },
  {
   "cell_type": "code",
   "execution_count": 17,
   "metadata": {},
   "outputs": [
    {
     "data": {
      "text/plain": [
       "'European shares began month gain BNP Paribas relief settled US sanctions case mining companies rallied encouraging economic came China world metals consumer The pan European FTSEurofirst closed notching biggest one day percentage gain since May BNP Paribas trading volume almost twice day daily It lost billion value since Feb announced provision fine The French bank pleaded guilty two criminal charges agreed pay almost billion resolve allegations many financial dealings violated US sanctions Sudan Cuba Iran Analysts investors stock could recover ground lost last months The size fine knew reaction BNP extremely reassuring comments efforts made protect dividend The bank keeping targets must mean enjoyed good first half Montsegur Finance fund manager Francois Chaulet Mining stocks also demand upbeat factory activity China reinforced signs stabilisation economy Rio Tinto among performers falling underperforming mining sector whole An upgrade buy BofA Merrill Lynch citing factors including valuation grounds also lent support Rio month forward price earnings ratio times long running times Valuation compelling think iron ore key driver Rio bottoming Concerns Chinese real estate persist house view manageable government successful walking fine line stimulating abrupt slow BofA ML analysts note BES BOUNCES Banco Espirito Santo BES rebounded near month Portuguese bank tried allay concern financial troubles parent company possible losses Angolan unit The stock jumped A drop BES stock three weeks led regulators London Lisbon impose ban short term selling bank shares Short selling bets stock lose value cause shares faster short sellers borrow shares sell buy back less sold Commenting broader trend McLaren Securities managing director Terry Torrison expected European stock trade sideways usually quiet summer months July August rising sharply towards end Other analysts also longer term outlook remained positive Even though showed manufacturing growth eased within euro zone currency bloc analysts economic stimulus measures European Central Bank would support region stock I think still buy dip Central Markets Investment Management head trading Darren Courtney Cook Europe bourses com pap v Asset com gap v Today European research round Tricia Wright Sudip Kar Gupta Editing Larry King Pravin Char'"
      ]
     },
     "execution_count": 17,
     "metadata": {},
     "output_type": "execute_result"
    }
   ],
   "source": [
    "df.iloc[35750]['cleaned_article_text']"
   ]
  },
  {
   "cell_type": "code",
   "execution_count": null,
   "metadata": {
    "collapsed": true
   },
   "outputs": [],
   "source": []
  }
 ],
 "metadata": {
  "kernelspec": {
   "display_name": "Python 3",
   "language": "python",
   "name": "python3"
  },
  "language_info": {
   "codemirror_mode": {
    "name": "ipython",
    "version": 3
   },
   "file_extension": ".py",
   "mimetype": "text/x-python",
   "name": "python",
   "nbconvert_exporter": "python",
   "pygments_lexer": "ipython3",
   "version": "3.6.1"
  }
 },
 "nbformat": 4,
 "nbformat_minor": 2
}
